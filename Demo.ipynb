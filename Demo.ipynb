{
  "cells": [
    {
      "cell_type": "markdown",
      "source": [
        "## Get workspace, experiment, and compute target"
      ],
      "metadata": {
        "nteract": {
          "transient": {
            "deleting": false
          }
        }
      }
    },
    {
      "cell_type": "code",
      "source": [
        "from azureml.core import Workspace\r\n",
        "from azureml.core import Experiment\r\n",
        "\r\n",
        "workspace = Workspace.from_config()\r\n",
        "experiment = Experiment(workspace, name='beans-classifier-metrics-demo')\r\n",
        "compute_target = workspace.compute_targets['k80cluster']"
      ],
      "outputs": [],
      "execution_count": 12,
      "metadata": {
        "gather": {
          "logged": 1605033188428
        }
      }
    },
    {
      "cell_type": "markdown",
      "source": [
        "## Run 1: No GPU being used"
      ],
      "metadata": {
        "nteract": {
          "transient": {
            "deleting": false
          }
        }
      }
    },
    {
      "cell_type": "code",
      "source": [
        "from azureml.core import Environment\r\n",
        "from azureml.core import ScriptRunConfig\r\n",
        "from azureml.core.runconfig import MpiConfiguration\r\n",
        "from azureml.core.environment import CondaDependencies\r\n",
        "from azureml.core import ScriptRunConfig\r\n",
        "\r\n",
        "# Specify conda packages\r\n",
        "conda_dep = CondaDependencies()\r\n",
        "conda_dep.add_pip_package('tensorflow-datasets')\r\n",
        "conda_dep.add_pip_package('tensorflow==2.1.0')\r\n",
        "\r\n",
        "# Create environment\r\n",
        "env = Environment(name=\"Tensorflow\")\r\n",
        "env.docker.enabled = True\r\n",
        "env.docker.base_image = 'mcr.microsoft.com/azureml/base-gpu:openmpi3.1.2-cuda10.0-cudnn7-ubuntu18.04'\r\n",
        "env.python.conda_dependencies = conda_dep\r\n",
        "\r\n",
        "# Create script run config\r\n",
        "src = ScriptRunConfig(source_directory='.',\r\n",
        "                      script='train.py',\r\n",
        "                      compute_target=compute_target,\r\n",
        "                      environment=env,\r\n",
        "                      distributed_job_config=MpiConfiguration(node_count=2),\r\n",
        "                      arguments=['--batch_size', 8, '--num_epochs', 100])\r\n",
        "\r\n",
        "# Submit run                      \r\n",
        "experiment.submit(src)"
      ],
      "outputs": [
        {
          "output_type": "execute_result",
          "execution_count": 3,
          "data": {
            "text/plain": "Run(Experiment: beans-classifier-metrics-demo,\nId: beans-classifier-metrics-demo_1605028507_0d74d512,\nType: azureml.scriptrun,\nStatus: Starting)",
            "text/html": "<table style=\"width:100%\"><tr><th>Experiment</th><th>Id</th><th>Type</th><th>Status</th><th>Details Page</th><th>Docs Page</th></tr><tr><td>beans-classifier-metrics-demo</td><td>beans-classifier-metrics-demo_1605028507_0d74d512</td><td>azureml.scriptrun</td><td>Starting</td><td><a href=\"https://ml.azure.com/experiments/beans-classifier-metrics-demo/runs/beans-classifier-metrics-demo_1605028507_0d74d512?wsid=/subscriptions/15ae9cb6-95c1-483d-a0e3-b1a1a3b06324/resourcegroups/john/workspaces/john-east\" target=\"_blank\" rel=\"noopener\">Link to Azure Machine Learning studio</a></td><td><a href=\"https://docs.microsoft.com/en-us/python/api/azureml-core/azureml.core.script_run.ScriptRun?view=azure-ml-py\" target=\"_blank\" rel=\"noopener\">Link to Documentation</a></td></tr></table>"
          },
          "metadata": {}
        }
      ],
      "execution_count": 3,
      "metadata": {
        "collapsed": true,
        "jupyter": {
          "source_hidden": false,
          "outputs_hidden": false
        },
        "nteract": {
          "transient": {
            "deleting": false
          }
        },
        "gather": {
          "logged": 1605028536075
        }
      }
    },
    {
      "cell_type": "markdown",
      "source": [
        "## Run 2: GPU being used"
      ],
      "metadata": {
        "nteract": {
          "transient": {
            "deleting": false
          }
        }
      }
    },
    {
      "cell_type": "code",
      "source": [
        "from azureml.core import Environment\r\n",
        "from azureml.core import ScriptRunConfig\r\n",
        "from azureml.core.runconfig import MpiConfiguration\r\n",
        "from azureml.core.environment import CondaDependencies\r\n",
        "from azureml.core import ScriptRunConfig\r\n",
        "\r\n",
        "# Specify conda packages\r\n",
        "conda_dep = CondaDependencies()\r\n",
        "conda_dep.add_pip_package('tensorflow-datasets')\r\n",
        "conda_dep.add_pip_package('tensorflow==2.1.0')\r\n",
        "\r\n",
        "# Create environment (change CUDA verion from 10.0 to 10.1 -> Tensorflow 2.1 is only compatible with CUDA 10.1)\r\n",
        "env = Environment(name=\"Tensorflow\")\r\n",
        "env.docker.enabled = True\r\n",
        "env.docker.base_image = 'mcr.microsoft.com/azureml/base-gpu:openmpi3.1.2-cuda10.1-cudnn7-ubuntu18.04'\r\n",
        "env.python.conda_dependencies = conda_dep\r\n",
        "\r\n",
        "# Create script run config\r\n",
        "src = ScriptRunConfig(source_directory='.',\r\n",
        "                      script='train.py',\r\n",
        "                      compute_target=compute_target,\r\n",
        "                      environment=env,\r\n",
        "                      distributed_job_config=MpiConfiguration(node_count=2),\r\n",
        "                      arguments=['--batch_size', 8, '--num_epochs', 100])\r\n",
        "\r\n",
        "# Submit run                      \r\n",
        "experiment.submit(src)"
      ],
      "outputs": [
        {
          "output_type": "execute_result",
          "execution_count": 15,
          "data": {
            "text/plain": "Run(Experiment: beans-classifier-metrics-demo,\nId: beans-classifier-metrics-demo_1605033940_24ccfb7c,\nType: azureml.scriptrun,\nStatus: Starting)",
            "text/html": "<table style=\"width:100%\"><tr><th>Experiment</th><th>Id</th><th>Type</th><th>Status</th><th>Details Page</th><th>Docs Page</th></tr><tr><td>beans-classifier-metrics-demo</td><td>beans-classifier-metrics-demo_1605033940_24ccfb7c</td><td>azureml.scriptrun</td><td>Starting</td><td><a href=\"https://ml.azure.com/experiments/beans-classifier-metrics-demo/runs/beans-classifier-metrics-demo_1605033940_24ccfb7c?wsid=/subscriptions/15ae9cb6-95c1-483d-a0e3-b1a1a3b06324/resourcegroups/john/workspaces/john-east\" target=\"_blank\" rel=\"noopener\">Link to Azure Machine Learning studio</a></td><td><a href=\"https://docs.microsoft.com/en-us/python/api/azureml-core/azureml.core.script_run.ScriptRun?view=azure-ml-py\" target=\"_blank\" rel=\"noopener\">Link to Documentation</a></td></tr></table>"
          },
          "metadata": {}
        }
      ],
      "execution_count": 15,
      "metadata": {
        "collapsed": true,
        "jupyter": {
          "source_hidden": false,
          "outputs_hidden": false
        },
        "nteract": {
          "transient": {
            "deleting": false
          }
        },
        "gather": {
          "logged": 1605033947876
        }
      }
    },
    {
      "cell_type": "markdown",
      "source": [
        "## Run 3: GPU being used more optimally"
      ],
      "metadata": {
        "nteract": {
          "transient": {
            "deleting": false
          }
        }
      }
    },
    {
      "cell_type": "code",
      "source": [
        "from azureml.core import Environment\r\n",
        "from azureml.core import ScriptRunConfig\r\n",
        "from azureml.core.runconfig import MpiConfiguration\r\n",
        "from azureml.core.environment import CondaDependencies\r\n",
        "from azureml.core import ScriptRunConfig\r\n",
        "\r\n",
        "# Specify conda packages\r\n",
        "conda_dep = CondaDependencies()\r\n",
        "conda_dep.add_pip_package('tensorflow-datasets')\r\n",
        "conda_dep.add_pip_package('tensorflow==2.1.0')\r\n",
        "\r\n",
        "# Create environment\r\n",
        "env = Environment(name=\"Tensorflow\")\r\n",
        "env.docker.enabled = True\r\n",
        "env.docker.base_image = 'mcr.microsoft.com/azureml/base-gpu:openmpi3.1.2-cuda10.1-cudnn7-ubuntu18.04'\r\n",
        "env.python.conda_dependencies = conda_dep\r\n",
        "\r\n",
        "# Create script run config (Change batch size to 32)\r\n",
        "src = ScriptRunConfig(source_directory='.',\r\n",
        "                      script='train.py',\r\n",
        "                      compute_target=compute_target,\r\n",
        "                      environment=env,\r\n",
        "                      distributed_job_config=MpiConfiguration(node_count=2),\r\n",
        "                      arguments=['--batch_size', 32, '--num_epochs', 100])\r\n",
        "\r\n",
        "# Submit run                      \r\n",
        "experiment.submit(src)"
      ],
      "outputs": [
        {
          "output_type": "execute_result",
          "execution_count": 17,
          "data": {
            "text/plain": "Run(Experiment: beans-classifier-metrics-demo,\nId: beans-classifier-metrics-demo_1605033986_ebec86ac,\nType: azureml.scriptrun,\nStatus: Starting)",
            "text/html": "<table style=\"width:100%\"><tr><th>Experiment</th><th>Id</th><th>Type</th><th>Status</th><th>Details Page</th><th>Docs Page</th></tr><tr><td>beans-classifier-metrics-demo</td><td>beans-classifier-metrics-demo_1605033986_ebec86ac</td><td>azureml.scriptrun</td><td>Starting</td><td><a href=\"https://ml.azure.com/experiments/beans-classifier-metrics-demo/runs/beans-classifier-metrics-demo_1605033986_ebec86ac?wsid=/subscriptions/15ae9cb6-95c1-483d-a0e3-b1a1a3b06324/resourcegroups/john/workspaces/john-east\" target=\"_blank\" rel=\"noopener\">Link to Azure Machine Learning studio</a></td><td><a href=\"https://docs.microsoft.com/en-us/python/api/azureml-core/azureml.core.script_run.ScriptRun?view=azure-ml-py\" target=\"_blank\" rel=\"noopener\">Link to Documentation</a></td></tr></table>"
          },
          "metadata": {}
        }
      ],
      "execution_count": 17,
      "metadata": {
        "collapsed": true,
        "jupyter": {
          "source_hidden": false,
          "outputs_hidden": false
        },
        "nteract": {
          "transient": {
            "deleting": false
          }
        },
        "gather": {
          "logged": 1605033991999
        }
      }
    }
  ],
  "metadata": {
    "kernelspec": {
      "name": "python3-azureml",
      "language": "python",
      "display_name": "Python 3.6 - AzureML"
    },
    "language_info": {
      "name": "python",
      "version": "3.6.9",
      "mimetype": "text/x-python",
      "codemirror_mode": {
        "name": "ipython",
        "version": 3
      },
      "pygments_lexer": "ipython3",
      "nbconvert_exporter": "python",
      "file_extension": ".py"
    },
    "kernel_info": {
      "name": "python3-azureml"
    },
    "nteract": {
      "version": "nteract-front-end@1.0.0"
    }
  },
  "nbformat": 4,
  "nbformat_minor": 2
}